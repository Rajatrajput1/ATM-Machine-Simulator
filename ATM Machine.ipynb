{
 "cells": [
  {
   "cell_type": "markdown",
   "id": "43d7e3e5-aced-4105-a5e1-99295db17633",
   "metadata": {},
   "source": [
    "# ATM Machine Simulator"
   ]
  },
  {
   "cell_type": "code",
   "execution_count": 1,
   "id": "7b64371c-3ac4-4fa2-a6e5-73bc6eb96029",
   "metadata": {},
   "outputs": [],
   "source": [
    "import json\n",
    "import os\n",
    "from getpass import getpass"
   ]
  },
  {
   "cell_type": "code",
   "execution_count": 2,
   "id": "0b87a3c5-f02c-4432-82f0-e823f2635ea3",
   "metadata": {},
   "outputs": [],
   "source": [
    "DATA_FILE = \"users_data.json\"\n",
    "\n",
    "# ---------- Utility Functions ----------\n",
    "\n",
    "def load_users():\n",
    "    if not os.path.exists(DATA_FILE):\n",
    "        return {}\n",
    "    with open(DATA_FILE, \"r\") as f:\n",
    "        return json.load(f)\n",
    "\n",
    "def save_users(users):\n",
    "    with open(DATA_FILE, \"w\") as f:\n",
    "        json.dump(users, f, indent=4)"
   ]
  },
  {
   "cell_type": "code",
   "execution_count": 3,
   "id": "1aa484fb-b68b-4d2e-bf24-42dd217e6b8b",
   "metadata": {},
   "outputs": [],
   "source": [
    "# ---------- ATM Class Definition ----------\n",
    "\n",
    "class ATM:\n",
    "    def __init__(self, username):\n",
    "        self.username = username\n",
    "        self.users = load_users()\n",
    "        self.user_data = self.users.get(username)\n",
    "\n",
    "    def check_balance(self):\n",
    "        print(f\"\\n[💰] Current Balance: ₹{self.user_data['balance']}\")\n",
    "\n",
    "    def deposit(self):\n",
    "        try:\n",
    "            amount = float(input(\"Enter amount to deposit: ₹\"))\n",
    "            if amount <= 0:\n",
    "                print(\"[❌] Invalid amount.\")\n",
    "                return\n",
    "            self.user_data['balance'] += amount\n",
    "            self.user_data['history'].append(f\"Deposited ₹{amount}\")\n",
    "            self.save()\n",
    "            print(\"[✅] Deposit successful.\")\n",
    "        except ValueError:\n",
    "            print(\"[❌] Please enter a valid number.\")\n",
    "\n",
    "    def withdraw(self):\n",
    "        try:\n",
    "            amount = float(input(\"Enter amount to withdraw: ₹\"))\n",
    "            if amount <= 0:\n",
    "                print(\"[❌] Invalid amount.\")\n",
    "                return\n",
    "            if self.user_data['balance'] < amount:\n",
    "                print(\"[⚠️] Insufficient balance.\")\n",
    "                return\n",
    "            self.user_data['balance'] -= amount\n",
    "            self.user_data['history'].append(f\"Withdrew ₹{amount}\")\n",
    "            self.save()\n",
    "            print(\"[✅] Withdrawal successful.\")\n",
    "        except ValueError:\n",
    "            print(\"[❌] Please enter a valid number.\")\n",
    "\n",
    "    def change_pin(self):\n",
    "        old_pin = getpass(\"Enter current PIN: \")\n",
    "        if old_pin != self.user_data['pin']:\n",
    "            print(\"[❌] Incorrect current PIN.\")\n",
    "            return\n",
    "        new_pin = getpass(\"Enter new 4-digit PIN: \")\n",
    "        if len(new_pin) != 4 or not new_pin.isdigit():\n",
    "            print(\"[❌] Invalid PIN format.\")\n",
    "            return\n",
    "        self.user_data['pin'] = new_pin\n",
    "        self.save()\n",
    "        print(\"[✅] PIN changed successfully.\")\n",
    "\n",
    "    def show_transaction_history(self):\n",
    "        print(\"\\n[📜] Transaction History:\")\n",
    "        for record in self.user_data['history']:\n",
    "            print(f\" - {record}\")\n",
    "\n",
    "    def save(self):\n",
    "        self.users[self.username] = self.user_data\n",
    "        save_users(self.users)"
   ]
  },
  {
   "cell_type": "code",
   "execution_count": 4,
   "id": "40f023de-f8ad-4c93-8d27-fe4201f6f774",
   "metadata": {},
   "outputs": [],
   "source": [
    "# ---------- Account Management ----------\n",
    "\n",
    "def create_account():\n",
    "    users = load_users()\n",
    "    username = input(\"Enter username: \")\n",
    "    if username in users:\n",
    "        print(\"[❌] Username already exists.\")\n",
    "        return\n",
    "    pin = getpass(\"Set a 4-digit PIN: \")\n",
    "    if len(pin) != 4 or not pin.isdigit():\n",
    "        print(\"[❌] PIN must be exactly 4 digits.\")\n",
    "        return\n",
    "    users[username] = {\n",
    "        \"pin\": pin,\n",
    "        \"balance\": 0.0,\n",
    "        \"history\": [\"Account created\"]\n",
    "    }\n",
    "    save_users(users)\n",
    "    print(\"[✅] Account created successfully!\")\n",
    "\n",
    "def login():\n",
    "    users = load_users()\n",
    "    username = input(\"Enter username: \")\n",
    "    if username not in users:\n",
    "        print(\"[❌] User not found.\")\n",
    "        return None\n",
    "    pin = getpass(\"Enter 4-digit PIN: \")\n",
    "    if users[username]['pin'] != pin:\n",
    "        print(\"[❌] Incorrect PIN.\")\n",
    "        return None\n",
    "    print(f\"[✅] Welcome, {username}!\")\n",
    "    return ATM(username)"
   ]
  },
  {
   "cell_type": "code",
   "execution_count": 5,
   "id": "ffec4032-b9cd-48bb-985d-a1b0d8608125",
   "metadata": {},
   "outputs": [
    {
     "name": "stdout",
     "output_type": "stream",
     "text": [
      "\n",
      "========= ATM MACHINE =========\n",
      "1. Create Account\n",
      "2. Login\n",
      "3. Exit\n"
     ]
    },
    {
     "name": "stdin",
     "output_type": "stream",
     "text": [
      "Enter choice:  2\n",
      "Enter username:  Rajat\n"
     ]
    },
    {
     "name": "stdout",
     "output_type": "stream",
     "text": [
      "[❌] User not found.\n",
      "\n",
      "========= ATM MACHINE =========\n",
      "1. Create Account\n",
      "2. Login\n",
      "3. Exit\n"
     ]
    },
    {
     "name": "stdin",
     "output_type": "stream",
     "text": [
      "Enter choice:  1\n",
      "Enter username:  Rajat\n",
      "Set a 4-digit PIN:  ········\n"
     ]
    },
    {
     "name": "stdout",
     "output_type": "stream",
     "text": [
      "[✅] Account created successfully!\n",
      "\n",
      "========= ATM MACHINE =========\n",
      "1. Create Account\n",
      "2. Login\n",
      "3. Exit\n"
     ]
    },
    {
     "name": "stdin",
     "output_type": "stream",
     "text": [
      "Enter choice:  2\n",
      "Enter username:  Rajat\n",
      "Enter 4-digit PIN:  ········\n"
     ]
    },
    {
     "name": "stdout",
     "output_type": "stream",
     "text": [
      "[✅] Welcome, Rajat!\n",
      "\n",
      "------- ATM MENU -------\n",
      "1. Check Balance\n",
      "2. Deposit\n",
      "3. Withdraw\n",
      "4. Change PIN\n",
      "5. Transaction History\n",
      "6. Logout\n"
     ]
    },
    {
     "name": "stdin",
     "output_type": "stream",
     "text": [
      "Enter choice:  1\n"
     ]
    },
    {
     "name": "stdout",
     "output_type": "stream",
     "text": [
      "\n",
      "[💰] Current Balance: ₹0.0\n",
      "\n",
      "------- ATM MENU -------\n",
      "1. Check Balance\n",
      "2. Deposit\n",
      "3. Withdraw\n",
      "4. Change PIN\n",
      "5. Transaction History\n",
      "6. Logout\n"
     ]
    },
    {
     "name": "stdin",
     "output_type": "stream",
     "text": [
      "Enter choice:  6\n"
     ]
    },
    {
     "name": "stdout",
     "output_type": "stream",
     "text": [
      "[👋] Logged out.\n",
      "\n",
      "========= ATM MACHINE =========\n",
      "1. Create Account\n",
      "2. Login\n",
      "3. Exit\n"
     ]
    },
    {
     "name": "stdin",
     "output_type": "stream",
     "text": [
      "Enter choice:  1\n",
      "Enter username:  Somi\n",
      "Set a 4-digit PIN:  ········\n"
     ]
    },
    {
     "name": "stdout",
     "output_type": "stream",
     "text": [
      "[✅] Account created successfully!\n",
      "\n",
      "========= ATM MACHINE =========\n",
      "1. Create Account\n",
      "2. Login\n",
      "3. Exit\n"
     ]
    },
    {
     "name": "stdin",
     "output_type": "stream",
     "text": [
      "Enter choice:  2\n",
      "Enter username:  Somi\n",
      "Enter 4-digit PIN:  ········\n"
     ]
    },
    {
     "name": "stdout",
     "output_type": "stream",
     "text": [
      "[✅] Welcome, Somi!\n",
      "\n",
      "------- ATM MENU -------\n",
      "1. Check Balance\n",
      "2. Deposit\n",
      "3. Withdraw\n",
      "4. Change PIN\n",
      "5. Transaction History\n",
      "6. Logout\n"
     ]
    },
    {
     "name": "stdin",
     "output_type": "stream",
     "text": [
      "Enter choice:  6\n"
     ]
    },
    {
     "name": "stdout",
     "output_type": "stream",
     "text": [
      "[👋] Logged out.\n",
      "\n",
      "========= ATM MACHINE =========\n",
      "1. Create Account\n",
      "2. Login\n",
      "3. Exit\n"
     ]
    },
    {
     "name": "stdin",
     "output_type": "stream",
     "text": [
      "Enter choice:  3\n"
     ]
    },
    {
     "name": "stdout",
     "output_type": "stream",
     "text": [
      "[👋] Thank you for using the ATM.\n"
     ]
    }
   ],
   "source": [
    "# ---------- Main Program Loop ----------\n",
    "\n",
    "def main():\n",
    "    while True:\n",
    "        print(\"\\n========= ATM MACHINE =========\")\n",
    "        print(\"1. Create Account\")\n",
    "        print(\"2. Login\")\n",
    "        print(\"3. Exit\")\n",
    "        choice = input(\"Enter choice: \")\n",
    "\n",
    "        if choice == '1':\n",
    "            create_account()\n",
    "        elif choice == '2':\n",
    "            atm = login()\n",
    "            if atm:\n",
    "                while True:\n",
    "                    print(\"\\n------- ATM MENU -------\")\n",
    "                    print(\"1. Check Balance\")\n",
    "                    print(\"2. Deposit\")\n",
    "                    print(\"3. Withdraw\")\n",
    "                    print(\"4. Change PIN\")\n",
    "                    print(\"5. Transaction History\")\n",
    "                    print(\"6. Logout\")\n",
    "                    sub_choice = input(\"Enter choice: \")\n",
    "\n",
    "                    if sub_choice == '1':\n",
    "                        atm.check_balance()\n",
    "                    elif sub_choice == '2':\n",
    "                        atm.deposit()\n",
    "                    elif sub_choice == '3':\n",
    "                        atm.withdraw()\n",
    "                    elif sub_choice == '4':\n",
    "                        atm.change_pin()\n",
    "                    elif sub_choice == '5':\n",
    "                        atm.show_transaction_history()\n",
    "                    elif sub_choice == '6':\n",
    "                        print(\"[👋] Logged out.\")\n",
    "                        break\n",
    "                    else:\n",
    "                        print(\"[❌] Invalid choice.\")\n",
    "        elif choice == '3':\n",
    "            print(\"[👋] Thank you for using the ATM.\")\n",
    "            break\n",
    "        else:\n",
    "            print(\"[❌] Invalid choice.\")\n",
    "\n",
    "if __name__ == \"__main__\":\n",
    "    main()"
   ]
  },
  {
   "cell_type": "code",
   "execution_count": null,
   "id": "cdf3d063-6a7b-4acf-ad1c-0a16b08cf7b8",
   "metadata": {},
   "outputs": [],
   "source": []
  }
 ],
 "metadata": {
  "kernelspec": {
   "display_name": "Python 3 (ipykernel)",
   "language": "python",
   "name": "python3"
  },
  "language_info": {
   "codemirror_mode": {
    "name": "ipython",
    "version": 3
   },
   "file_extension": ".py",
   "mimetype": "text/x-python",
   "name": "python",
   "nbconvert_exporter": "python",
   "pygments_lexer": "ipython3",
   "version": "3.13.4"
  }
 },
 "nbformat": 4,
 "nbformat_minor": 5
}
